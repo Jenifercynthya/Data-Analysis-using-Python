{
  "nbformat": 4,
  "nbformat_minor": 0,
  "metadata": {
    "colab": {
      "name": "Dictionaries.ipynb",
      "provenance": [],
      "include_colab_link": true
    },
    "kernelspec": {
      "name": "python3",
      "display_name": "Python 3"
    },
    "language_info": {
      "name": "python"
    }
  },
  "cells": [
    {
      "cell_type": "markdown",
      "metadata": {
        "id": "view-in-github",
        "colab_type": "text"
      },
      "source": [
        "<a href=\"https://colab.research.google.com/github/Jenifercynthya/Data-Analysis-using-Python/blob/main/Dictionaries.ipynb\" target=\"_parent\"><img src=\"https://colab.research.google.com/assets/colab-badge.svg\" alt=\"Open In Colab\"/></a>"
      ]
    },
    {
      "cell_type": "code",
      "metadata": {
        "colab": {
          "base_uri": "https://localhost:8080/"
        },
        "id": "ki_cXFbW0X03",
        "outputId": "8fd77b2d-3b64-40dd-96a6-27281e9a3594"
      },
      "source": [
        "dict={'name':'jenifer','designation':'AsP','qual':'phd','univ':'cmr'}\n",
        "print(dict['name'])\n",
        "print(dict['qual'])"
      ],
      "execution_count": null,
      "outputs": [
        {
          "output_type": "stream",
          "name": "stdout",
          "text": [
            "jenifer\n",
            "phd\n"
          ]
        }
      ]
    },
    {
      "cell_type": "code",
      "metadata": {
        "colab": {
          "base_uri": "https://localhost:8080/"
        },
        "id": "OGrhgoO41LEH",
        "outputId": "3d4197e4-b8fe-4e2e-83b0-67edbc973e1c"
      },
      "source": [
        "dict={'name':'jenifer','designation':'AsP','qual':'phd','univ':'cmr'}\n",
        "\n",
        "dict['name']='cynthya'\n",
        "\n",
        "print(dict['name'])\n",
        "\n",
        "dict['class']='cse7sem'\n",
        "\n",
        "print(dict['class'])"
      ],
      "execution_count": null,
      "outputs": [
        {
          "output_type": "stream",
          "name": "stdout",
          "text": [
            "cynthya\n",
            "cse7sem\n"
          ]
        }
      ]
    },
    {
      "cell_type": "code",
      "metadata": {
        "id": "I2ozOuWZ1TrF"
      },
      "source": [
        "dict={'name':'shabnam','designation':'AsP','qual':'phd','univ':'cmr'}\n",
        "\n",
        "del dict['designation']\n",
        "\n",
        "#print(dict['designation'])\n",
        "\n",
        "dict.clear()\n",
        "\n",
        "#print(dict['name'])\n",
        "\n",
        "del dict"
      ],
      "execution_count": null,
      "outputs": []
    },
    {
      "cell_type": "code",
      "metadata": {
        "colab": {
          "base_uri": "https://localhost:8080/"
        },
        "id": "V6hnW7F51Yfs",
        "outputId": "f6f6e7c4-b254-46ce-fdf0-8682f5ffc758"
      },
      "source": [
        "dict={'name':'jenifer','designation':'AsP','qual':'phd','univ':'cmr', 'name':'Nishitha'}\n",
        "\n",
        "\n",
        "print(dict['name'])\n",
        "\n",
        "print(len(dict))"
      ],
      "execution_count": null,
      "outputs": [
        {
          "output_type": "stream",
          "name": "stdout",
          "text": [
            "Nishitha\n",
            "4\n"
          ]
        }
      ]
    },
    {
      "cell_type": "code",
      "metadata": {
        "colab": {
          "base_uri": "https://localhost:8080/"
        },
        "id": "Y2TqK5rM1k39",
        "outputId": "2aa86e02-c73e-43b0-a99f-c66679254312"
      },
      "source": [
        "dict={'name':'jenifer','designation':'AsP','qual':'phd','univ':'cmr', 'name':'Nishitha'}\n",
        "\n",
        "\n",
        "print(dict.values())\n",
        "\n",
        "print(dict.items())\n",
        "\n",
        "print(dict.keys())"
      ],
      "execution_count": null,
      "outputs": [
        {
          "output_type": "stream",
          "name": "stdout",
          "text": [
            "dict_values(['Nishitha', 'AsP', 'phd', 'cmr'])\n",
            "dict_items([('name', 'Nishitha'), ('designation', 'AsP'), ('qual', 'phd'), ('univ', 'cmr')])\n",
            "dict_keys(['name', 'designation', 'qual', 'univ'])\n"
          ]
        }
      ]
    },
    {
      "cell_type": "code",
      "metadata": {
        "colab": {
          "base_uri": "https://localhost:8080/"
        },
        "id": "vKWReLJi1tma",
        "outputId": "00354e06-b11e-4fc5-9700-5b6c8f588eb5"
      },
      "source": [
        "dict={'name':'jenifer','designation':'AsP','qual':'phd','univ':'cmr', 'name':'Nishitha'}\n",
        "\n",
        "\n",
        "print(dict['name'])\n",
        "\n",
        "print(dict.get('edu',\"nothing\"))\n"
      ],
      "execution_count": null,
      "outputs": [
        {
          "output_type": "stream",
          "name": "stdout",
          "text": [
            "Nishitha\n",
            "nothing\n"
          ]
        }
      ]
    },
    {
      "cell_type": "code",
      "metadata": {
        "colab": {
          "base_uri": "https://localhost:8080/"
        },
        "id": "MJQwqybd2BxP",
        "outputId": "f221708c-ffa8-4384-b5d3-2d2fdc5574a0"
      },
      "source": [
        "dict={'name':'jenifer','designation':'AsP','qual':'phd','univ':'cmr', 'name':'Cynthya'}\n",
        "\n",
        "\n",
        "dict2=dict.copy()\n",
        "\n",
        "print(dict2['name'])\n",
        "\n",
        "print(len(dict2))"
      ],
      "execution_count": null,
      "outputs": [
        {
          "output_type": "stream",
          "name": "stdout",
          "text": [
            "Cynthya\n",
            "4\n"
          ]
        }
      ]
    },
    {
      "cell_type": "code",
      "metadata": {
        "colab": {
          "base_uri": "https://localhost:8080/"
        },
        "id": "AmrP1ipX2J3u",
        "outputId": "ee52d4a0-840c-43b6-d777-8924976912a6"
      },
      "source": [
        "dict={'name':'jenifer','designation':'AsP','qual':'phd','univ':'cmr', 'name':'cynthya'}\n",
        "\n",
        "\n",
        "dict2={'edu':'btech-mtech','students':'7sem'}\n",
        "\n",
        "print(dict)\n",
        "print(dict2)\n",
        "\n",
        "dict.update(dict2)\n",
        "\n",
        "print(dict)"
      ],
      "execution_count": null,
      "outputs": [
        {
          "output_type": "stream",
          "name": "stdout",
          "text": [
            "{'name': 'cynthya', 'designation': 'AsP', 'qual': 'phd', 'univ': 'cmr'}\n",
            "{'edu': 'btech-mtech', 'students': '7sem'}\n",
            "{'name': 'cynthya', 'designation': 'AsP', 'qual': 'phd', 'univ': 'cmr', 'edu': 'btech-mtech', 'students': '7sem'}\n"
          ]
        }
      ]
    }
  ]
}