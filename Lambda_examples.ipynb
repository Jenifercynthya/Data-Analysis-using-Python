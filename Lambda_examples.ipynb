{
  "nbformat": 4,
  "nbformat_minor": 0,
  "metadata": {
    "colab": {
      "name": "Lambda_examples.ipynb",
      "provenance": [],
      "authorship_tag": "ABX9TyMCh4vUHKQRwPSj8KxlnrPp",
      "include_colab_link": true
    },
    "kernelspec": {
      "name": "python3",
      "display_name": "Python 3"
    },
    "language_info": {
      "name": "python"
    }
  },
  "cells": [
    {
      "cell_type": "markdown",
      "metadata": {
        "id": "view-in-github",
        "colab_type": "text"
      },
      "source": [
        "<a href=\"https://colab.research.google.com/github/Jenifercynthya/Data-Analysis-using-Python/blob/main/Lambda_examples.ipynb\" target=\"_parent\"><img src=\"https://colab.research.google.com/assets/colab-badge.svg\" alt=\"Open In Colab\"/></a>"
      ]
    },
    {
      "cell_type": "code",
      "metadata": {
        "colab": {
          "base_uri": "https://localhost:8080/"
        },
        "id": "MWMUdEwzHQ4d",
        "outputId": "fb1ad6bf-e364-40fb-b9e1-93ba6e34420f"
      },
      "source": [
        "# importing pandas library\n",
        "import pandas as pd\n",
        "\n",
        "# creating and initializing a list\n",
        "values= [['Rohan',455],['Elvish',250],['Deepak',495],\n",
        "\t\t['Soni',400],['Radhika',350],['Vansh',450]]\n",
        "\n",
        "# creating a pandas dataframe\n",
        "df = pd.DataFrame(values,columns=['Name','Total_Marks'])\n",
        "\n",
        "# Applying lambda function to find\n",
        "# percentage of 'Total_Marks' column\n",
        "# using df.assign()\n",
        "df = df.assign(Percentage = lambda x: (x['Total_Marks'] /500 * 100))\n",
        "\n",
        "# displaying the data frame\n",
        "print(df)"
      ],
      "execution_count": null,
      "outputs": [
        {
          "output_type": "stream",
          "name": "stdout",
          "text": [
            "      Name  Total_Marks  Percentage\n",
            "0    Rohan          455        91.0\n",
            "1   Elvish          250        50.0\n",
            "2   Deepak          495        99.0\n",
            "3     Soni          400        80.0\n",
            "4  Radhika          350        70.0\n",
            "5    Vansh          450        90.0\n"
          ]
        }
      ]
    },
    {
      "cell_type": "code",
      "metadata": {
        "colab": {
          "base_uri": "https://localhost:8080/"
        },
        "id": "-p73C-_5HiwN",
        "outputId": "6a66df21-13cd-4438-b6b2-4420a1b2724d"
      },
      "source": [
        "# importing pandas library\n",
        "import pandas as pd\n",
        "\n",
        "# creating and initializing a nested list\n",
        "values_list = [[15, 2.5, 100], [20, 4.5, 50], [25, 5.2, 80],\n",
        "\t\t\t[45, 5.8, 48], [40, 6.3, 70], [41, 6.4, 90],\n",
        "\t\t\t[51, 2.3, 111]]\n",
        "\n",
        "# creating a pandas dataframe\n",
        "df = pd.DataFrame(values_list, columns=['Field_1', 'Field_2', 'Field_3'])\n",
        "\n",
        "# Applying lambda function to find\n",
        "# the product of 3 columns using\n",
        "# df.assign()\n",
        "df = df.assign(Product=lambda x: (x['Field_1'] * x['Field_2'] * x['Field_3']))\n",
        "\n",
        "# printing dataframe\n",
        "print(df)"
      ],
      "execution_count": null,
      "outputs": [
        {
          "output_type": "stream",
          "name": "stdout",
          "text": [
            "   Field_1  Field_2  Field_3  Product\n",
            "0       15      2.5      100   3750.0\n",
            "1       20      4.5       50   4500.0\n",
            "2       25      5.2       80  10400.0\n",
            "3       45      5.8       48  12528.0\n",
            "4       40      6.3       70  17640.0\n",
            "5       41      6.4       90  23616.0\n",
            "6       51      2.3      111  13020.3\n"
          ]
        }
      ]
    },
    {
      "cell_type": "code",
      "metadata": {
        "colab": {
          "base_uri": "https://localhost:8080/"
        },
        "id": "UiQVw-8RHoeh",
        "outputId": "8ed6fd53-32b7-4f5a-a366-8db624348203"
      },
      "source": [
        "# importing pandas and numpy libraries\n",
        "import pandas as pd\n",
        "import numpy as np\n",
        "\n",
        "# creating and initializing a nested list\n",
        "values_list = [[15, 2.5, 100], [20, 4.5, 50], [25, 5.2, 80],\n",
        "\t\t\t[45, 5.8, 48], [40, 6.3, 70], [41, 6.4, 90],\n",
        "\t\t\t[51, 2.3, 111]]\n",
        "\n",
        "# creating a pandas dataframe\n",
        "df = pd.DataFrame(values_list, columns=['Field_1', 'Field_2', 'Field_3'],\n",
        "\t\t\t\tindex=['a', 'b', 'c', 'd', 'e', 'f', 'g'])\n",
        "\n",
        "# Apply function numpy.square() to square the values of one row only i.e. row with index name 'd'\n",
        "df = df.apply(lambda x: np.square(x) if x.name == 'd' else x, axis=1)\n",
        "\n",
        "# printing dataframe\n",
        "print(df)"
      ],
      "execution_count": null,
      "outputs": [
        {
          "output_type": "stream",
          "name": "stdout",
          "text": [
            "   Field_1  Field_2  Field_3\n",
            "a     15.0     2.50    100.0\n",
            "b     20.0     4.50     50.0\n",
            "c     25.0     5.20     80.0\n",
            "d   2025.0    33.64   2304.0\n",
            "e     40.0     6.30     70.0\n",
            "f     41.0     6.40     90.0\n",
            "g     51.0     2.30    111.0\n"
          ]
        }
      ]
    },
    {
      "cell_type": "code",
      "metadata": {
        "colab": {
          "base_uri": "https://localhost:8080/",
          "height": 265
        },
        "id": "AKG8WvSbIlGG",
        "outputId": "038237c9-1d99-44c2-f389-647112f16e02"
      },
      "source": [
        "# importing pandas and numpylibraries\n",
        "import pandas as pd\n",
        "import numpy as np\n",
        "\n",
        "# creating and initializing a nested list\n",
        "values_list = [[15, 2.5, 100], [20, 4.5, 50], [25, 5.2, 80],\n",
        "\t\t\t[45, 5.8, 48], [40, 6.3, 70], [41, 6.4, 90],\n",
        "\t\t\t[51, 2.3, 111]]\n",
        "\n",
        "# creating a pandas dataframe\n",
        "df = pd.DataFrame(values_list, columns=['Field_1', 'Field_2', 'Field_3'],\n",
        "\t\t\t\tindex=['a', 'b', 'c', 'd', 'e', 'f', 'g'])\n",
        "\n",
        "\n",
        "# Apply function numpy.square() to square the values of 3 rows only i.e. with row index name 'a', 'e' and 'g' only\n",
        "df = df.apply(lambda x: np.square(x) if x.name in [\n",
        "\t\t\t'a', 'e', 'g'] else x, axis=1)\n",
        "\n",
        "# printing dataframe\n",
        "df"
      ],
      "execution_count": null,
      "outputs": [
        {
          "output_type": "execute_result",
          "data": {
            "text/html": [
              "<div>\n",
              "<style scoped>\n",
              "    .dataframe tbody tr th:only-of-type {\n",
              "        vertical-align: middle;\n",
              "    }\n",
              "\n",
              "    .dataframe tbody tr th {\n",
              "        vertical-align: top;\n",
              "    }\n",
              "\n",
              "    .dataframe thead th {\n",
              "        text-align: right;\n",
              "    }\n",
              "</style>\n",
              "<table border=\"1\" class=\"dataframe\">\n",
              "  <thead>\n",
              "    <tr style=\"text-align: right;\">\n",
              "      <th></th>\n",
              "      <th>Field_1</th>\n",
              "      <th>Field_2</th>\n",
              "      <th>Field_3</th>\n",
              "    </tr>\n",
              "  </thead>\n",
              "  <tbody>\n",
              "    <tr>\n",
              "      <th>a</th>\n",
              "      <td>225.0</td>\n",
              "      <td>6.25</td>\n",
              "      <td>10000.0</td>\n",
              "    </tr>\n",
              "    <tr>\n",
              "      <th>b</th>\n",
              "      <td>20.0</td>\n",
              "      <td>4.50</td>\n",
              "      <td>50.0</td>\n",
              "    </tr>\n",
              "    <tr>\n",
              "      <th>c</th>\n",
              "      <td>25.0</td>\n",
              "      <td>5.20</td>\n",
              "      <td>80.0</td>\n",
              "    </tr>\n",
              "    <tr>\n",
              "      <th>d</th>\n",
              "      <td>45.0</td>\n",
              "      <td>5.80</td>\n",
              "      <td>48.0</td>\n",
              "    </tr>\n",
              "    <tr>\n",
              "      <th>e</th>\n",
              "      <td>1600.0</td>\n",
              "      <td>39.69</td>\n",
              "      <td>4900.0</td>\n",
              "    </tr>\n",
              "    <tr>\n",
              "      <th>f</th>\n",
              "      <td>41.0</td>\n",
              "      <td>6.40</td>\n",
              "      <td>90.0</td>\n",
              "    </tr>\n",
              "    <tr>\n",
              "      <th>g</th>\n",
              "      <td>2601.0</td>\n",
              "      <td>5.29</td>\n",
              "      <td>12321.0</td>\n",
              "    </tr>\n",
              "  </tbody>\n",
              "</table>\n",
              "</div>"
            ],
            "text/plain": [
              "   Field_1  Field_2  Field_3\n",
              "a    225.0     6.25  10000.0\n",
              "b     20.0     4.50     50.0\n",
              "c     25.0     5.20     80.0\n",
              "d     45.0     5.80     48.0\n",
              "e   1600.0    39.69   4900.0\n",
              "f     41.0     6.40     90.0\n",
              "g   2601.0     5.29  12321.0"
            ]
          },
          "metadata": {},
          "execution_count": 4
        }
      ]
    },
    {
      "cell_type": "code",
      "metadata": {
        "colab": {
          "base_uri": "https://localhost:8080/",
          "height": 265
        },
        "id": "zk_MQ5jyI2bg",
        "outputId": "863f7caf-7848-4906-d2bc-fa9be1bdb28f"
      },
      "source": [
        "# importing pandas and numpylibraries\n",
        "import pandas as pd\n",
        "import numpy as np\n",
        "\n",
        "# creating and initializing a nested list\n",
        "values_list = [[1.5, 2.5, 10.0], [2.0, 4.5, 5.0], [2.5, 5.2, 8.0],\n",
        "\t\t\t[4.5, 5.8, 4.8], [4.0, 6.3, 70], [4.1, 6.4, 9.0],\n",
        "\t\t\t[5.1, 2.3, 11.1]]\n",
        "\n",
        "# creating a pandas dataframe\n",
        "df = pd.DataFrame(values_list, columns=['Field_1', 'Field_2', 'Field_3'],\n",
        "\t\t\t\tindex=['a', 'b', 'c', 'd', 'e', 'f', 'g'])\n",
        "\n",
        "# Apply function numpy.square() to square the values of 2 rows only i.e. with row index name 'b' and 'f' only\n",
        "df = df.apply(lambda x: np.square(x) if x.name in ['b', 'f'] else x, axis=1)\n",
        "\n",
        "# Applying lambda function to find product of 3 columns i.e 'Field_1', 'Field_2' and 'Field_3'\n",
        "df = df.assign(Product=lambda x: (x['Field_1'] * x['Field_2'] * x['Field_3']))\n",
        "\n",
        "# printing dataframe\n",
        "df\n"
      ],
      "execution_count": null,
      "outputs": [
        {
          "output_type": "execute_result",
          "data": {
            "text/html": [
              "<div>\n",
              "<style scoped>\n",
              "    .dataframe tbody tr th:only-of-type {\n",
              "        vertical-align: middle;\n",
              "    }\n",
              "\n",
              "    .dataframe tbody tr th {\n",
              "        vertical-align: top;\n",
              "    }\n",
              "\n",
              "    .dataframe thead th {\n",
              "        text-align: right;\n",
              "    }\n",
              "</style>\n",
              "<table border=\"1\" class=\"dataframe\">\n",
              "  <thead>\n",
              "    <tr style=\"text-align: right;\">\n",
              "      <th></th>\n",
              "      <th>Field_1</th>\n",
              "      <th>Field_2</th>\n",
              "      <th>Field_3</th>\n",
              "      <th>Product</th>\n",
              "    </tr>\n",
              "  </thead>\n",
              "  <tbody>\n",
              "    <tr>\n",
              "      <th>a</th>\n",
              "      <td>1.50</td>\n",
              "      <td>2.50</td>\n",
              "      <td>10.0</td>\n",
              "      <td>37.5000</td>\n",
              "    </tr>\n",
              "    <tr>\n",
              "      <th>b</th>\n",
              "      <td>4.00</td>\n",
              "      <td>20.25</td>\n",
              "      <td>25.0</td>\n",
              "      <td>2025.0000</td>\n",
              "    </tr>\n",
              "    <tr>\n",
              "      <th>c</th>\n",
              "      <td>2.50</td>\n",
              "      <td>5.20</td>\n",
              "      <td>8.0</td>\n",
              "      <td>104.0000</td>\n",
              "    </tr>\n",
              "    <tr>\n",
              "      <th>d</th>\n",
              "      <td>4.50</td>\n",
              "      <td>5.80</td>\n",
              "      <td>4.8</td>\n",
              "      <td>125.2800</td>\n",
              "    </tr>\n",
              "    <tr>\n",
              "      <th>e</th>\n",
              "      <td>4.00</td>\n",
              "      <td>6.30</td>\n",
              "      <td>70.0</td>\n",
              "      <td>1764.0000</td>\n",
              "    </tr>\n",
              "    <tr>\n",
              "      <th>f</th>\n",
              "      <td>16.81</td>\n",
              "      <td>40.96</td>\n",
              "      <td>81.0</td>\n",
              "      <td>55771.5456</td>\n",
              "    </tr>\n",
              "    <tr>\n",
              "      <th>g</th>\n",
              "      <td>5.10</td>\n",
              "      <td>2.30</td>\n",
              "      <td>11.1</td>\n",
              "      <td>130.2030</td>\n",
              "    </tr>\n",
              "  </tbody>\n",
              "</table>\n",
              "</div>"
            ],
            "text/plain": [
              "   Field_1  Field_2  Field_3     Product\n",
              "a     1.50     2.50     10.0     37.5000\n",
              "b     4.00    20.25     25.0   2025.0000\n",
              "c     2.50     5.20      8.0    104.0000\n",
              "d     4.50     5.80      4.8    125.2800\n",
              "e     4.00     6.30     70.0   1764.0000\n",
              "f    16.81    40.96     81.0  55771.5456\n",
              "g     5.10     2.30     11.1    130.2030"
            ]
          },
          "metadata": {},
          "execution_count": 5
        }
      ]
    }
  ]
}