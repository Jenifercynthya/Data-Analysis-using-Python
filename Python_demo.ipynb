{
  "nbformat": 4,
  "nbformat_minor": 0,
  "metadata": {
    "colab": {
      "name": "Python_demo.ipynb",
      "provenance": []
    },
    "kernelspec": {
      "name": "python3",
      "display_name": "Python 3"
    },
    "language_info": {
      "name": "python"
    }
  },
  "cells": [
    {
      "cell_type": "code",
      "metadata": {
        "colab": {
          "base_uri": "https://localhost:8080/"
        },
        "id": "FY-1gMDWGMrm",
        "outputId": "90d39514-0684-41d1-fc44-fe8768c5c414"
      },
      "source": [
        "print(\"Hello World\")"
      ],
      "execution_count": null,
      "outputs": [
        {
          "output_type": "stream",
          "text": [
            "Hello World\n"
          ],
          "name": "stdout"
        }
      ]
    },
    {
      "cell_type": "code",
      "metadata": {
        "colab": {
          "base_uri": "https://localhost:8080/"
        },
        "id": "1r8ZJPN3HWH4",
        "outputId": "39911b82-7cb3-4bc4-842c-1416c3949179"
      },
      "source": [
        "if True:\n",
        "  print(\"True\")\n",
        "  print(\"True again\")\n",
        "else:\n",
        "  print(\"false\")\n",
        "print(\"Hello All\")"
      ],
      "execution_count": null,
      "outputs": [
        {
          "output_type": "stream",
          "text": [
            "True\n",
            "True again\n",
            "Hello All\n"
          ],
          "name": "stdout"
        }
      ]
    },
    {
      "cell_type": "code",
      "metadata": {
        "colab": {
          "base_uri": "https://localhost:8080/"
        },
        "id": "spasI3vcLLg6",
        "outputId": "f8d9ef69-a7db-4b88-a001-b75c1d51a50b"
      },
      "source": [
        "num=7\n",
        "print(num)"
      ],
      "execution_count": null,
      "outputs": [
        {
          "output_type": "stream",
          "text": [
            "7\n"
          ],
          "name": "stdout"
        }
      ]
    },
    {
      "cell_type": "code",
      "metadata": {
        "colab": {
          "base_uri": "https://localhost:8080/"
        },
        "id": "Q49bOom3M7CX",
        "outputId": "882e0e6a-b9dc-4c22-9fff-8b459e793ae5"
      },
      "source": [
        "print(num)\n",
        "num=9.36\n",
        "print(num)\n",
        "num = \"hi\"\n",
        "print(num)"
      ],
      "execution_count": null,
      "outputs": [
        {
          "output_type": "stream",
          "text": [
            "9.36\n",
            "9.36\n",
            "hi\n"
          ],
          "name": "stdout"
        }
      ]
    },
    {
      "cell_type": "code",
      "metadata": {
        "colab": {
          "base_uri": "https://localhost:8080/"
        },
        "id": "sOeWCgS1NS2v",
        "outputId": "21bf1168-cf20-40a1-93bb-8baee1e886e6"
      },
      "source": [
        "a = b = c =12\n",
        "print(a)\n",
        "print(b)\n",
        "print(c)\n",
        "  #OR\n",
        "print(a, b, c)\n"
      ],
      "execution_count": null,
      "outputs": [
        {
          "output_type": "stream",
          "text": [
            "12\n",
            "12\n",
            "12\n",
            "12 12 12\n"
          ],
          "name": "stdout"
        }
      ]
    },
    {
      "cell_type": "code",
      "metadata": {
        "colab": {
          "base_uri": "https://localhost:8080/"
        },
        "id": "0bSw2Q_dO5Cc",
        "outputId": "23ee640e-511b-48a5-c3fd-568ca7ab0ca9"
      },
      "source": [
        "a, b, c = 1, 12, \"hi\"\n",
        "print(a)\n",
        "print(b)\n",
        "print(c)\n"
      ],
      "execution_count": null,
      "outputs": [
        {
          "output_type": "stream",
          "text": [
            "1\n",
            "12\n",
            "hi\n"
          ],
          "name": "stdout"
        }
      ]
    },
    {
      "cell_type": "code",
      "metadata": {
        "colab": {
          "base_uri": "https://localhost:8080/",
          "height": 128
        },
        "id": "C7a2XzvjfGWT",
        "outputId": "e954ea94-c06d-4b57-82b8-1b9ae10283d8"
      },
      "source": [
        "PI = 3.14\n",
        "def areac(r=1):\n",
        "  return pi*r*r\n",
        "u = float(input(\"Enter the radius of the circle :\"))\n",
        "print(\"Area of the circle is :\" areac(u))"
      ],
      "execution_count": null,
      "outputs": [
        {
          "output_type": "error",
          "ename": "SyntaxError",
          "evalue": "ignored",
          "traceback": [
            "\u001b[0;36m  File \u001b[0;32m\"<ipython-input-7-1f5c239992a3>\"\u001b[0;36m, line \u001b[0;32m5\u001b[0m\n\u001b[0;31m    print(\"Area of the circle is :\" areac(u))\u001b[0m\n\u001b[0m                                        ^\u001b[0m\n\u001b[0;31mSyntaxError\u001b[0m\u001b[0;31m:\u001b[0m invalid syntax\n"
          ]
        }
      ]
    },
    {
      "cell_type": "code",
      "metadata": {
        "colab": {
          "base_uri": "https://localhost:8080/"
        },
        "id": "P46_tvGXh1JA",
        "outputId": "7eabf4f8-07b6-4116-a884-26f4660367bf"
      },
      "source": [
        "PI = 3.14\n",
        "r = float(input('Enter the radius of the circle :'))\n",
        "area = PI * r * r\n",
        "\n",
        "print(\"Area of the circle is : %.2f\" %area)"
      ],
      "execution_count": null,
      "outputs": [
        {
          "output_type": "stream",
          "text": [
            "Enter the radius of the circle :5\n",
            "Area of the circle is : 78.50\n"
          ],
          "name": "stdout"
        }
      ]
    },
    {
      "cell_type": "code",
      "metadata": {
        "id": "mhy6AkmKiAeN"
      },
      "source": [
        ""
      ],
      "execution_count": null,
      "outputs": []
    }
  ]
}