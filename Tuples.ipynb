{
  "nbformat": 4,
  "nbformat_minor": 5,
  "metadata": {
    "kernelspec": {
      "display_name": "Python 3",
      "language": "python",
      "name": "python3"
    },
    "language_info": {
      "codemirror_mode": {
        "name": "ipython",
        "version": 3
      },
      "file_extension": ".py",
      "mimetype": "text/x-python",
      "name": "python",
      "nbconvert_exporter": "python",
      "pygments_lexer": "ipython3",
      "version": "3.8.8"
    },
    "colab": {
      "name": "Tuples.ipynb",
      "provenance": [],
      "include_colab_link": true
    }
  },
  "cells": [
    {
      "cell_type": "markdown",
      "metadata": {
        "id": "view-in-github",
        "colab_type": "text"
      },
      "source": [
        "<a href=\"https://colab.research.google.com/github/Jenifercynthya/Data-Analysis-using-Python/blob/main/Tuples.ipynb\" target=\"_parent\"><img src=\"https://colab.research.google.com/assets/colab-badge.svg\" alt=\"Open In Colab\"/></a>"
      ]
    },
    {
      "cell_type": "code",
      "metadata": {
        "id": "424b5b94",
        "outputId": "8bf141a7-34c7-444e-9058-71b3e678a8f3"
      },
      "source": [
        "tup= ('cse','it','mech')\n",
        "print(tup)\n",
        "tup1=(1,23,4,5,5,6)\n",
        "print(tup1)\n",
        "tup2=\"abc\",\"def\"\n",
        "print(tup2)"
      ],
      "id": "424b5b94",
      "execution_count": null,
      "outputs": [
        {
          "name": "stdout",
          "output_type": "stream",
          "text": [
            "('cse', 'it', 'mech')\n",
            "(1, 23, 4, 5, 5, 6)\n",
            "('abc', 'def')\n"
          ]
        }
      ]
    },
    {
      "cell_type": "code",
      "metadata": {
        "id": "debde1a5",
        "outputId": "2d20776d-ccf5-45a6-b4b9-f8f1c8c8fb2c"
      },
      "source": [
        "tup1 = ()\n",
        "print(tup1)"
      ],
      "id": "debde1a5",
      "execution_count": null,
      "outputs": [
        {
          "name": "stdout",
          "output_type": "stream",
          "text": [
            "()\n"
          ]
        }
      ]
    },
    {
      "cell_type": "code",
      "metadata": {
        "id": "74286d0d",
        "outputId": "85f37afd-84bb-4e8d-bc2e-1e05602f01ab"
      },
      "source": [
        "tup1 = (24)\n",
        "print(tup1)"
      ],
      "id": "74286d0d",
      "execution_count": null,
      "outputs": [
        {
          "name": "stdout",
          "output_type": "stream",
          "text": [
            "24\n"
          ]
        }
      ]
    },
    {
      "cell_type": "code",
      "metadata": {
        "id": "a79a5606",
        "outputId": "c7bb6ab5-f6ee-426c-c703-7145bef23173"
      },
      "source": [
        "tup= ('cse','it','mech','ece','electrical')\n",
        "print(tup[0])\n",
        "print(tup[2])\n",
        "print(tup[2:5])"
      ],
      "id": "a79a5606",
      "execution_count": null,
      "outputs": [
        {
          "name": "stdout",
          "output_type": "stream",
          "text": [
            "cse\n",
            "mech\n",
            "('mech', 'ece', 'electrical')\n"
          ]
        }
      ]
    },
    {
      "cell_type": "code",
      "metadata": {
        "id": "21292bd1",
        "outputId": "6fe36da9-30a4-43da-cdde-80eeebf110d7"
      },
      "source": [
        "tup1= ('cse','it','mech','ece','electrical')\n",
        "print(tup1)\n",
        "\n",
        "del(tup1)\n",
        "print(tup1)"
      ],
      "id": "21292bd1",
      "execution_count": null,
      "outputs": [
        {
          "name": "stdout",
          "output_type": "stream",
          "text": [
            "('cse', 'it', 'mech', 'ece', 'electrical')\n"
          ]
        },
        {
          "ename": "NameError",
          "evalue": "name 'tup1' is not defined",
          "output_type": "error",
          "traceback": [
            "\u001b[1;31m---------------------------------------------------------------------------\u001b[0m",
            "\u001b[1;31mNameError\u001b[0m                                 Traceback (most recent call last)",
            "\u001b[1;32m<ipython-input-10-f0e3be02146e>\u001b[0m in \u001b[0;36m<module>\u001b[1;34m\u001b[0m\n\u001b[0;32m      3\u001b[0m \u001b[1;33m\u001b[0m\u001b[0m\n\u001b[0;32m      4\u001b[0m \u001b[1;32mdel\u001b[0m\u001b[1;33m(\u001b[0m\u001b[0mtup1\u001b[0m\u001b[1;33m)\u001b[0m\u001b[1;33m\u001b[0m\u001b[1;33m\u001b[0m\u001b[0m\n\u001b[1;32m----> 5\u001b[1;33m \u001b[0mprint\u001b[0m\u001b[1;33m(\u001b[0m\u001b[0mtup1\u001b[0m\u001b[1;33m)\u001b[0m\u001b[1;33m\u001b[0m\u001b[1;33m\u001b[0m\u001b[0m\n\u001b[0m",
            "\u001b[1;31mNameError\u001b[0m: name 'tup1' is not defined"
          ]
        }
      ]
    },
    {
      "cell_type": "code",
      "metadata": {
        "id": "10d1afee",
        "outputId": "f924fc40-872a-4e74-8159-033740dac68a"
      },
      "source": [
        "tup1= ('cse','it','mech','ece','electrical')\n",
        "print(tup1)\n",
        "tup2= ('shabnam','nishitha','roy')\n",
        "print(tup2)\n",
        "\n",
        "\n",
        "tup3=tup1+tup2\n",
        "print(tup3)"
      ],
      "id": "10d1afee",
      "execution_count": null,
      "outputs": [
        {
          "name": "stdout",
          "output_type": "stream",
          "text": [
            "('cse', 'it', 'mech', 'ece', 'electrical')\n",
            "('shabnam', 'nishitha', 'roy')\n",
            "('cse', 'it', 'mech', 'ece', 'electrical', 'shabnam', 'nishitha', 'roy')\n"
          ]
        }
      ]
    },
    {
      "cell_type": "code",
      "metadata": {
        "id": "bb18bcef",
        "outputId": "5e60c8b7-b567-42c2-a5a5-3466eb6554e8"
      },
      "source": [
        "tup1= ('cse','it','mech','ece','electrical')\n",
        "print(tup1)\n",
        "\n",
        "print(\"value at 3rd loc= \",tup1[3])\n",
        "\n",
        "tup1[3]=\"Shabnam\" #not allowed\n",
        "print(\"UPDATED value at 3rd loc= \",tup1[3])"
      ],
      "id": "bb18bcef",
      "execution_count": null,
      "outputs": [
        {
          "name": "stdout",
          "output_type": "stream",
          "text": [
            "('cse', 'it', 'mech', 'ece', 'electrical')\n",
            "value at 3rd loc=  ece\n"
          ]
        },
        {
          "ename": "TypeError",
          "evalue": "'tuple' object does not support item assignment",
          "output_type": "error",
          "traceback": [
            "\u001b[1;31m---------------------------------------------------------------------------\u001b[0m",
            "\u001b[1;31mTypeError\u001b[0m                                 Traceback (most recent call last)",
            "\u001b[1;32m<ipython-input-15-449e2af414d0>\u001b[0m in \u001b[0;36m<module>\u001b[1;34m\u001b[0m\n\u001b[0;32m      4\u001b[0m \u001b[0mprint\u001b[0m\u001b[1;33m(\u001b[0m\u001b[1;34m\"value at 3rd loc= \"\u001b[0m\u001b[1;33m,\u001b[0m\u001b[0mtup1\u001b[0m\u001b[1;33m[\u001b[0m\u001b[1;36m3\u001b[0m\u001b[1;33m]\u001b[0m\u001b[1;33m)\u001b[0m\u001b[1;33m\u001b[0m\u001b[1;33m\u001b[0m\u001b[0m\n\u001b[0;32m      5\u001b[0m \u001b[1;33m\u001b[0m\u001b[0m\n\u001b[1;32m----> 6\u001b[1;33m \u001b[0mtup1\u001b[0m\u001b[1;33m[\u001b[0m\u001b[1;36m3\u001b[0m\u001b[1;33m]\u001b[0m\u001b[1;33m=\u001b[0m\u001b[1;34m\"Shabnam\"\u001b[0m\u001b[1;33m\u001b[0m\u001b[1;33m\u001b[0m\u001b[0m\n\u001b[0m\u001b[0;32m      7\u001b[0m \u001b[0mprint\u001b[0m\u001b[1;33m(\u001b[0m\u001b[1;34m\"UPDATED value at 3rd loc= \"\u001b[0m\u001b[1;33m,\u001b[0m\u001b[0mtup1\u001b[0m\u001b[1;33m[\u001b[0m\u001b[1;36m3\u001b[0m\u001b[1;33m]\u001b[0m\u001b[1;33m)\u001b[0m\u001b[1;33m\u001b[0m\u001b[1;33m\u001b[0m\u001b[0m\n",
            "\u001b[1;31mTypeError\u001b[0m: 'tuple' object does not support item assignment"
          ]
        }
      ]
    },
    {
      "cell_type": "code",
      "metadata": {
        "id": "90cb299f",
        "outputId": "caa124c7-8371-4047-ffd8-6bfe1767b79e"
      },
      "source": [
        "tup1= ('cse','it','mech','ece','electrical')\n",
        "print(tup1)\n",
        "tup2= ('shabnam','nishitha','roy')\n",
        "print(tup2)\n",
        "a=len(tup1)\n",
        "b=len(tup2)\n",
        "print(a)\n",
        "print(b)\n",
        "\n",
        "print(len(tup1))\n"
      ],
      "id": "90cb299f",
      "execution_count": null,
      "outputs": [
        {
          "name": "stdout",
          "output_type": "stream",
          "text": [
            "('cse', 'it', 'mech', 'ece', 'electrical')\n",
            "('shabnam', 'nishitha', 'roy')\n",
            "5\n",
            "3\n",
            "5\n"
          ]
        }
      ]
    },
    {
      "cell_type": "code",
      "metadata": {
        "id": "fd3c1496",
        "outputId": "ee62e5bf-9147-4107-ccea-c04da630ecc4"
      },
      "source": [
        "tup1= ('cse','it','mech','ece','electrical')\n",
        "print(tup1)\n",
        "tup2= ('shabnam','nishitha','roy')\n",
        "print(tup2)\n",
        "\n",
        "\n",
        "print(max(tup1))"
      ],
      "id": "fd3c1496",
      "execution_count": null,
      "outputs": [
        {
          "name": "stdout",
          "output_type": "stream",
          "text": [
            "('cse', 'it', 'mech', 'ece', 'electrical')\n",
            "('shabnam', 'nishitha', 'roy')\n",
            "mech\n"
          ]
        }
      ]
    },
    {
      "cell_type": "code",
      "metadata": {
        "id": "80ef4447"
      },
      "source": [
        ""
      ],
      "id": "80ef4447",
      "execution_count": null,
      "outputs": []
    }
  ]
}