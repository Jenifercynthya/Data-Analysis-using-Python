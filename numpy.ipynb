{
  "nbformat": 4,
  "nbformat_minor": 5,
  "metadata": {
    "kernelspec": {
      "display_name": "Python 3",
      "language": "python",
      "name": "python3"
    },
    "language_info": {
      "codemirror_mode": {
        "name": "ipython",
        "version": 3
      },
      "file_extension": ".py",
      "mimetype": "text/x-python",
      "name": "python",
      "nbconvert_exporter": "python",
      "pygments_lexer": "ipython3",
      "version": "3.8.8"
    },
    "colab": {
      "name": "numpy.ipynb",
      "provenance": [],
      "include_colab_link": true
    }
  },
  "cells": [
    {
      "cell_type": "markdown",
      "metadata": {
        "id": "view-in-github",
        "colab_type": "text"
      },
      "source": [
        "<a href=\"https://colab.research.google.com/github/Jenifercynthya/Data-Analysis-using-Python/blob/main/numpy.ipynb\" target=\"_parent\"><img src=\"https://colab.research.google.com/assets/colab-badge.svg\" alt=\"Open In Colab\"/></a>"
      ]
    },
    {
      "cell_type": "code",
      "metadata": {
        "id": "2d08d9ce",
        "outputId": "fe76952c-b8c0-4f36-9326-80e40658d1db"
      },
      "source": [
        "import numpy as npa \n",
        "npa= np.array([1, 2, 3])\n",
        "print(npa)"
      ],
      "id": "2d08d9ce",
      "execution_count": null,
      "outputs": [
        {
          "name": "stdout",
          "output_type": "stream",
          "text": [
            "[1 2 3]\n"
          ]
        }
      ]
    },
    {
      "cell_type": "code",
      "metadata": {
        "id": "941afc8f",
        "outputId": "998faab7-2886-4e13-c4e1-698532fa72fd"
      },
      "source": [
        "import numpy as npp\n",
        "a = npp.array([[1 , 2, 3, 4], [5, 6, 7, 8], [9, 10, 11, 12]])\n",
        "print(a)"
      ],
      "id": "941afc8f",
      "execution_count": null,
      "outputs": [
        {
          "name": "stdout",
          "output_type": "stream",
          "text": [
            "[[ 1  2  3  4]\n",
            " [ 5  6  7  8]\n",
            " [ 9 10 11 12]]\n"
          ]
        }
      ]
    },
    {
      "cell_type": "code",
      "metadata": {
        "id": "7584a380",
        "outputId": "3fd14d9f-6cd1-432f-9d2f-dbcd619182a0"
      },
      "source": [
        "import numpy as np\n",
        "a=np.zeros(2)\n",
        "print(a)"
      ],
      "id": "7584a380",
      "execution_count": null,
      "outputs": [
        {
          "name": "stdout",
          "output_type": "stream",
          "text": [
            "[0. 0.]\n"
          ]
        }
      ]
    },
    {
      "cell_type": "code",
      "metadata": {
        "id": "7536046a",
        "outputId": "ab449925-b873-443f-b3f2-6950e79056ad"
      },
      "source": [
        "import numpy as np\n",
        "a=np.ones(4)\n",
        "print(a)"
      ],
      "id": "7536046a",
      "execution_count": null,
      "outputs": [
        {
          "name": "stdout",
          "output_type": "stream",
          "text": [
            "[1. 1. 1. 1.]\n"
          ]
        }
      ]
    },
    {
      "cell_type": "code",
      "metadata": {
        "id": "0b92a9c5",
        "outputId": "c6eca96e-38e6-4e6d-f576-84fad8dcca96"
      },
      "source": [
        "import numpy as np\n",
        "ab=np.empty(4)\n",
        "print(ab)"
      ],
      "id": "0b92a9c5",
      "execution_count": null,
      "outputs": [
        {
          "name": "stdout",
          "output_type": "stream",
          "text": [
            "[1. 1. 1. 1.]\n"
          ]
        }
      ]
    },
    {
      "cell_type": "code",
      "metadata": {
        "id": "a9694ba3",
        "outputId": "2e637295-bac5-49df-932f-767acc02c3ad"
      },
      "source": [
        "import numpy as np\n",
        "a=np.arange(7)\n",
        "print(a)"
      ],
      "id": "a9694ba3",
      "execution_count": null,
      "outputs": [
        {
          "name": "stdout",
          "output_type": "stream",
          "text": [
            "[0 1 2 3 4 5 6]\n"
          ]
        }
      ]
    },
    {
      "cell_type": "code",
      "metadata": {
        "id": "bb3a84f0",
        "outputId": "7394b7c4-3b3a-432b-adac-1ac2f541121b"
      },
      "source": [
        "import numpy as np\n",
        "a=np.arange(2,9,2)\n",
        "print(a)"
      ],
      "id": "bb3a84f0",
      "execution_count": null,
      "outputs": [
        {
          "name": "stdout",
          "output_type": "stream",
          "text": [
            "[2 4 6 8]\n"
          ]
        }
      ]
    },
    {
      "cell_type": "code",
      "metadata": {
        "id": "83f72ecc",
        "outputId": "c0af85f5-1f58-4566-d4f5-d4e514f4cf57"
      },
      "source": [
        "y = np.ones(2, dtype=int)\n",
        "print(y)\n",
        "y"
      ],
      "id": "83f72ecc",
      "execution_count": null,
      "outputs": [
        {
          "name": "stdout",
          "output_type": "stream",
          "text": [
            "[1 1]\n"
          ]
        },
        {
          "data": {
            "text/plain": [
              "array([1, 1])"
            ]
          },
          "execution_count": 25,
          "metadata": {},
          "output_type": "execute_result"
        }
      ]
    },
    {
      "cell_type": "code",
      "metadata": {
        "id": "712f9bf9",
        "outputId": "9dbb5e69-1b80-4c7c-86e6-c19784d4f3f1"
      },
      "source": [
        "arr = np.array([1, 2, 3, 4, 5, 6, 7, 8])\n",
        "print(arr)"
      ],
      "id": "712f9bf9",
      "execution_count": null,
      "outputs": [
        {
          "name": "stdout",
          "output_type": "stream",
          "text": [
            "[1 2 3 4 5 6 7 8]\n"
          ]
        }
      ]
    },
    {
      "cell_type": "code",
      "metadata": {
        "id": "e07d6ebf",
        "outputId": "06c5e871-7037-4999-f4eb-5db5c9dd35f3"
      },
      "source": [
        "a = np.array([1, 2, 3, 4, 5, 6, 7, 8])\n",
        "print(a)\n",
        "\n",
        "\n",
        "a=np.delete(a, 1)\n",
        "print(a)"
      ],
      "id": "e07d6ebf",
      "execution_count": null,
      "outputs": [
        {
          "name": "stdout",
          "output_type": "stream",
          "text": [
            "[1 2 3 4 5 6 7 8]\n",
            "[1 3 4 5 6 7 8]\n"
          ]
        }
      ]
    },
    {
      "cell_type": "code",
      "metadata": {
        "id": "d40b9748",
        "outputId": "9446768e-d83a-45eb-fb38-a58acac915b7"
      },
      "source": [
        "a = np.array([19, 22, 34, 14, 55, 76, 47, 8])\n",
        "print(a)\n",
        "\n",
        "\n",
        "a=np.sort(a)\n",
        "print(a)"
      ],
      "id": "d40b9748",
      "execution_count": null,
      "outputs": [
        {
          "name": "stdout",
          "output_type": "stream",
          "text": [
            "[19 22 34 14 55 76 47  8]\n",
            "[ 8 14 19 22 34 47 55 76]\n"
          ]
        }
      ]
    },
    {
      "cell_type": "code",
      "metadata": {
        "id": "c353aedc",
        "outputId": "16c364ea-3f87-412f-b110-2bf5ad79ac75"
      },
      "source": [
        "import numpy as np\n",
        "\n",
        "arr = np.array([[1, 2, 3], [4, 5, 6]])\n",
        "a=arr.ndim\n",
        "print(arr) \n",
        "print(\"dimensions = \", a)"
      ],
      "id": "c353aedc",
      "execution_count": null,
      "outputs": [
        {
          "name": "stdout",
          "output_type": "stream",
          "text": [
            "[[1 2 3]\n",
            " [4 5 6]]\n",
            "dimensions =  2\n"
          ]
        }
      ]
    },
    {
      "cell_type": "code",
      "metadata": {
        "id": "ae3fbb3d",
        "outputId": "8db6ebf9-fbe0-4100-fe1e-22e6042e2892"
      },
      "source": [
        "import numpy as np\n",
        "\n",
        "arr = np.array([[[1, 2, 3], [4, 5, 6]], [[11, 22, 33], [44, 55, 66]]])\n",
        "a=arr.ndim\n",
        "b=arr.size\n",
        "print(arr) \n",
        "print(\"dimensions = \", a)\n",
        "print(\"size = \", b)\n"
      ],
      "id": "ae3fbb3d",
      "execution_count": null,
      "outputs": [
        {
          "name": "stdout",
          "output_type": "stream",
          "text": [
            "[[[ 1  2  3]\n",
            "  [ 4  5  6]]\n",
            "\n",
            " [[11 22 33]\n",
            "  [44 55 66]]]\n",
            "dimensions =  3\n",
            "size =  12\n"
          ]
        }
      ]
    },
    {
      "cell_type": "code",
      "metadata": {
        "id": "385f3420",
        "outputId": "60556e50-293f-483e-df18-6c988cf427f3"
      },
      "source": [
        "import numpy as np\n",
        "\n",
        "a = np.array(42)\n",
        "b = np.array([1, 2, 3, 4, 5])\n",
        "c = np.array([[1, 2, 3], [4, 5, 6]])\n",
        "d = np.array([[[1, 2, 3], [4, 5, 6]], [[1, 2, 3], [4, 5, 6]]])\n",
        "\n",
        "print(a)\n",
        "print(\"dimension= \", a.ndim)\n",
        "print(b)\n",
        "print(\"dimension= \", b.ndim)\n",
        "print(c)\n",
        "print(\"dimension= \", c.ndim)\n",
        "print(d)\n",
        "print(\"dimension= \", d.ndim)\n"
      ],
      "id": "385f3420",
      "execution_count": null,
      "outputs": [
        {
          "name": "stdout",
          "output_type": "stream",
          "text": [
            "42\n",
            "dimension=  0\n",
            "[1 2 3 4 5]\n",
            "dimension=  1\n",
            "[[1 2 3]\n",
            " [4 5 6]]\n",
            "dimension=  2\n",
            "[[[1 2 3]\n",
            "  [4 5 6]]\n",
            "\n",
            " [[1 2 3]\n",
            "  [4 5 6]]]\n",
            "dimension=  3\n"
          ]
        }
      ]
    },
    {
      "cell_type": "code",
      "metadata": {
        "id": "301ac4c6",
        "outputId": "d9200f30-d575-4f51-c9d8-a0d0ad605241"
      },
      "source": [
        "import numpy as np\n",
        "\n",
        "arr = np.array([[1, 2, 3, 4], [5, 6, 7, 8]])\n",
        "\n",
        "print(arr.shape) "
      ],
      "id": "301ac4c6",
      "execution_count": null,
      "outputs": [
        {
          "name": "stdout",
          "output_type": "stream",
          "text": [
            "(2, 4)\n"
          ]
        }
      ]
    },
    {
      "cell_type": "code",
      "metadata": {
        "id": "6a06420e",
        "outputId": "2785a368-68f3-4136-eb65-37b3a95c5b00"
      },
      "source": [
        "a = np.arange(6)\n",
        "print(a)\n",
        "\n",
        "b = a.reshape(3,2)\n",
        "print(b)"
      ],
      "id": "6a06420e",
      "execution_count": null,
      "outputs": [
        {
          "name": "stdout",
          "output_type": "stream",
          "text": [
            "[0 1 2 3 4 5]\n",
            "[[0 1]\n",
            " [2 3]\n",
            " [4 5]]\n"
          ]
        }
      ]
    },
    {
      "cell_type": "code",
      "metadata": {
        "id": "a8d2d0c7"
      },
      "source": [
        ""
      ],
      "id": "a8d2d0c7",
      "execution_count": null,
      "outputs": []
    }
  ]
}